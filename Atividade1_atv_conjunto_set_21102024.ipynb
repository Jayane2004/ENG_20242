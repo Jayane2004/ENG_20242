{
  "nbformat": 4,
  "nbformat_minor": 0,
  "metadata": {
    "colab": {
      "provenance": [],
      "authorship_tag": "ABX9TyOc5Dxi2YGxouVjgiTvHlAL",
      "include_colab_link": true
    },
    "kernelspec": {
      "name": "python3",
      "display_name": "Python 3"
    },
    "language_info": {
      "name": "python"
    }
  },
  "cells": [
    {
      "cell_type": "markdown",
      "metadata": {
        "id": "view-in-github",
        "colab_type": "text"
      },
      "source": [
        "<a href=\"https://colab.research.google.com/github/Jayane2004/ENG_20242/blob/main/Atividade1_atv_conjunto_set_21102024.ipynb\" target=\"_parent\"><img src=\"https://colab.research.google.com/assets/colab-badge.svg\" alt=\"Open In Colab\"/></a>"
      ]
    },
    {
      "cell_type": "code",
      "execution_count": null,
      "metadata": {
        "colab": {
          "base_uri": "https://localhost:8080/"
        },
        "id": "b1lfT7L9ni4b",
        "outputId": "125d6a1f-97a3-42ea-b791-cb155cce393e"
      },
      "outputs": [
        {
          "output_type": "stream",
          "name": "stdout",
          "text": [
            "{'maçã', 'banana', 'laranja', 'uva'}\n"
          ]
        }
      ],
      "source": [
        "#Atividade1/atv_conjunto_set_21102024.ipynb\n",
        "\n",
        "\n",
        "\n",
        "#1 - Crie um conjunto chamado `frutas` que contenha os seguintes elementos: \"maçã\", \"banana\", \"laranja\" e \"uva\". Depois de criar o conjunto, exiba-o no console para confirmar os elementos adicionados.\n",
        "frutas= {'maçã', 'banana', 'laranja' , 'uva'}\n",
        "print(frutas)"
      ]
    },
    {
      "cell_type": "code",
      "source": [
        "#2 - Utilizando o conjunto `frutas` criado anteriormente, adicione a fruta \"morango\" ao conjunto. Lembre-se que conjuntos não permitem duplicatas, então adicione um elemento que já exista para verificar o comportamento.\n",
        "frutas= {'maçã', 'banana', 'laranja' , 'uva'}\n",
        "frutas.add('morango')\n",
        "frutas.add('uva')\n",
        "print(frutas)"
      ],
      "metadata": {
        "colab": {
          "base_uri": "https://localhost:8080/"
        },
        "id": "NmRUP32BolGm",
        "outputId": "0523cc56-bb43-4986-a47a-22036a86c5e0"
      },
      "execution_count": null,
      "outputs": [
        {
          "output_type": "stream",
          "name": "stdout",
          "text": [
            "{'maçã', 'uva', 'banana', 'laranja', 'morango'}\n"
          ]
        }
      ]
    },
    {
      "cell_type": "code",
      "source": [
        "#3 - Remova a fruta \"banana\" do conjunto `frutas`. Se \"banana\" não estiver presente, o código pode gerar um erro. Verifique se a fruta existe antes de removê-la ou trate o erro adequadamente.\n",
        "frutas= {'maçã', 'banana', 'laranja' , 'uva'}\n",
        "frutas.remove('banana')\n",
        "print(frutas)"
      ],
      "metadata": {
        "colab": {
          "base_uri": "https://localhost:8080/"
        },
        "id": "MCMlIMRApMyJ",
        "outputId": "c0de8bdf-17f9-4207-d911-f5a29c1bd60f"
      },
      "execution_count": null,
      "outputs": [
        {
          "output_type": "stream",
          "name": "stdout",
          "text": [
            "{'maçã', 'uva', 'laranja'}\n"
          ]
        }
      ]
    },
    {
      "cell_type": "code",
      "source": [
        "#4 - Verifique se a fruta \"laranja\" está presente no conjunto `frutas` usando uma estrutura condicional. Exiba uma mensagem no console indicando se \"laranja\" está ou não presente no conjunto.\n",
        "frutas= {'maçã', 'banana', 'laranja' , 'uva'}\n",
        "if 'laranja' in frutas:\n",
        "  print(\"está presente\")\n",
        "else:\n",
        "  print(\"não está presente\")"
      ],
      "metadata": {
        "colab": {
          "base_uri": "https://localhost:8080/"
        },
        "id": "g39Z17g9qPvn",
        "outputId": "d0cdeba5-9656-4b68-9b0a-f56bdd157913"
      },
      "execution_count": null,
      "outputs": [
        {
          "output_type": "stream",
          "name": "stdout",
          "text": [
            "está presente\n"
          ]
        }
      ]
    },
    {
      "cell_type": "code",
      "source": [
        "#5 - Crie um segundo conjunto chamado `citrus`, contendo \"laranja\", \"limão\" e \"tangerina\". Faça a união dos conjuntos `frutas` e `citrus`, criando um novo conjunto que contém todos os elementos dos dois conjuntos. Exiba o resultado dessa união\n",
        "frutas= {'maçã', 'banana', 'laranja' , 'uva'}\n",
        "citrus= {\"laranja\", \"limão\" , \"tangerina\"}\n",
        "conjunto= frutas.union(citrus)\n",
        "print(conjunto)"
      ],
      "metadata": {
        "colab": {
          "base_uri": "https://localhost:8080/"
        },
        "id": "cI3hOjuWq93V",
        "outputId": "72565fe9-6cb4-4e5b-ea28-628fead44d00"
      },
      "execution_count": null,
      "outputs": [
        {
          "output_type": "stream",
          "name": "stdout",
          "text": [
            "{'maçã', 'banana', 'laranja', 'tangerina', 'limão', 'uva'}\n"
          ]
        }
      ]
    },
    {
      "cell_type": "code",
      "source": [
        "#6 - Usando os conjuntos `frutas` e `citrus`, encontre a interseção entre eles, ou seja, os elementos que estão presentes em ambos os conjuntos. Exiba os elementos comuns.\n",
        "frutas= {'maçã', 'banana', 'laranja' , 'uva'}\n",
        "citrus= {\"laranja\", \"limão\" , \"tangerina\"}\n",
        "interseção= frutas.intersection(citrus)\n",
        "print(interseção)"
      ],
      "metadata": {
        "colab": {
          "base_uri": "https://localhost:8080/"
        },
        "id": "DMYCgE8Wt96x",
        "outputId": "f7498f3a-f068-4a0e-d2a6-1579299470ac"
      },
      "execution_count": null,
      "outputs": [
        {
          "output_type": "stream",
          "name": "stdout",
          "text": [
            "{'laranja'}\n"
          ]
        }
      ]
    },
    {
      "cell_type": "code",
      "source": [
        "#7 - Encontre a diferença entre os conjuntos `frutas` e `citrus`, ou seja, os elementos que estão em `frutas` mas não estão em `citrus`. Exiba o resultado dessa diferença.\n",
        "frutas= {'maçã', 'banana', 'laranja' , 'uva'}\n",
        "citrus= {\"laranja\", \"limão\" , \"tangerina\"}\n",
        "diferença= frutas.difference(citrus)\n",
        "print(diferença)"
      ],
      "metadata": {
        "colab": {
          "base_uri": "https://localhost:8080/"
        },
        "id": "gZAj4whpu-Mk",
        "outputId": "b214a1d5-3f81-4033-e5e9-cbd6a4905c10"
      },
      "execution_count": null,
      "outputs": [
        {
          "output_type": "stream",
          "name": "stdout",
          "text": [
            "{'maçã', 'banana', 'uva'}\n"
          ]
        }
      ]
    },
    {
      "cell_type": "code",
      "source": [
        "#8 - Esvazie completamente o conjunto `citrus` usando um método específico que remove todos os elementos de um conjunto. Verifique se o conjunto foi realmente esvaziado ao exibi-lo no console após a operação.\n",
        "citrus= {\"laranja\", \"limão\" , \"tangerina\"}\n",
        "citrus.clear()\n",
        "print(citrus)"
      ],
      "metadata": {
        "colab": {
          "base_uri": "https://localhost:8080/"
        },
        "id": "EW1rZLSnvnhn",
        "outputId": "52930f17-e2fe-47b7-87df-a785a78fcc0e"
      },
      "execution_count": null,
      "outputs": [
        {
          "output_type": "stream",
          "name": "stdout",
          "text": [
            "set()\n"
          ]
        }
      ]
    },
    {
      "cell_type": "code",
      "source": [
        "#9 - Converta o conjunto `frutas` em um conjunto imutável, ou seja, um conjunto que não pode ser alterado após sua criação. Crie esse conjunto imutável e exiba-o no console.\n",
        "frutas= {'maçã', 'banana', 'laranja' , 'uva'}\n",
        "conjunto= frozenset(frutas)\n",
        "print(conjunto)"
      ],
      "metadata": {
        "colab": {
          "base_uri": "https://localhost:8080/"
        },
        "id": "13vizldxwDMa",
        "outputId": "621fba7b-0717-49db-ace6-2fc250054f04"
      },
      "execution_count": null,
      "outputs": [
        {
          "output_type": "stream",
          "name": "stdout",
          "text": [
            "frozenset({'maçã', 'banana', 'uva', 'laranja'})\n"
          ]
        }
      ]
    },
    {
      "cell_type": "code",
      "source": [
        "#10 - Conte quantos elementos únicos existem no conjunto `frutas` e exiba o número total de elementos no console.\n",
        "frutas= {'maçã', 'banana', 'laranja' , 'uva'}\n",
        "c= len(frutas)\n",
        "print(c)"
      ],
      "metadata": {
        "colab": {
          "base_uri": "https://localhost:8080/"
        },
        "id": "YA0trvuMwrWo",
        "outputId": "dc4a3af4-d0d0-4b9a-ef59-f45a2e3d555e"
      },
      "execution_count": null,
      "outputs": [
        {
          "output_type": "stream",
          "name": "stdout",
          "text": [
            "4\n"
          ]
        }
      ]
    }
  ]
}