{
  "nbformat": 4,
  "nbformat_minor": 0,
  "metadata": {
    "colab": {
      "provenance": [],
      "authorship_tag": "ABX9TyOGORYq2lFcl0xrEWUuF9cC",
      "include_colab_link": true
    },
    "kernelspec": {
      "name": "python3",
      "display_name": "Python 3"
    },
    "language_info": {
      "name": "python"
    }
  },
  "cells": [
    {
      "cell_type": "markdown",
      "metadata": {
        "id": "view-in-github",
        "colab_type": "text"
      },
      "source": [
        "<a href=\"https://colab.research.google.com/github/Jayane2004/ENG_20242/blob/main/Atividade2_atv_fun%C3%A7%C3%A3o_21112024.ipynb\" target=\"_parent\"><img src=\"https://colab.research.google.com/assets/colab-badge.svg\" alt=\"Open In Colab\"/></a>"
      ]
    },
    {
      "cell_type": "code",
      "execution_count": 25,
      "metadata": {
        "colab": {
          "base_uri": "https://localhost:8080/"
        },
        "id": "tEMq3wz3ZIlm",
        "outputId": "f7b97073-5ccc-45ec-b712-40912d6bc20d"
      },
      "outputs": [
        {
          "output_type": "stream",
          "name": "stdout",
          "text": [
            "[1, 3, 5, 7]\n"
          ]
        }
      ],
      "source": [
        "#1. Crie uma função que receba uma lista de números e retorne uma lista contendo apenas os números ímpares.\n",
        "def numero_impares(lista):\n",
        "  impares=[]\n",
        "  for numero in lista:\n",
        "    if numero%2 !=0:\n",
        "      impares.append(numero)\n",
        "  return impares\n",
        "lista=[1,2,3,4,5,6,7,8]\n",
        "print(numero_impares(lista))\n",
        "\n",
        "\n",
        "\n",
        "\n"
      ]
    },
    {
      "cell_type": "code",
      "source": [
        "#2. Escreva uma função que receba uma lista e retorne uma nova lista com o dobro de cada elemento\n",
        "def dobro_elemento(lista):\n",
        "  dobro=[]\n",
        "  for numero in lista:\n",
        "    dobro.append(numero*2)\n",
        "  return dobro\n",
        "lista1=[1,2,3,4,5,6,7,8]\n",
        "print(dobro_elemento(lista))"
      ],
      "metadata": {
        "colab": {
          "base_uri": "https://localhost:8080/"
        },
        "id": "yelWak6dbxXg",
        "outputId": "d77d4ef3-f6b3-4ba7-f4d8-6528c132e511"
      },
      "execution_count": 27,
      "outputs": [
        {
          "output_type": "stream",
          "name": "stdout",
          "text": [
            "[2, 4, 6, 8, 10, 12, 14, 16]\n"
          ]
        }
      ]
    },
    {
      "cell_type": "code",
      "source": [
        "#3. Faça uma função que receba uma lista e retorne uma lista sem duplicatas.\n",
        "def lista_duplicatas(lista):\n",
        "  duplicadas=[]\n",
        "  for numero in lista:\n",
        "    if numero not in duplicadas:\n",
        "      duplicadas.append(numero)\n",
        "  return duplicadas\n",
        "lista=[1,2,3,2,8,1]\n",
        "print(lista_duplicatas(lista))"
      ],
      "metadata": {
        "colab": {
          "base_uri": "https://localhost:8080/"
        },
        "id": "6y1_Y_XvdQpV",
        "outputId": "cfc723a0-c71c-4e6c-d81a-225ab94056b4"
      },
      "execution_count": 77,
      "outputs": [
        {
          "output_type": "stream",
          "name": "stdout",
          "text": [
            "[1, 2, 3, 8]\n"
          ]
        }
      ]
    },
    {
      "cell_type": "code",
      "source": [
        "#4. Crie uma função que receba uma lista e um valor divisor e retorne uma lista dos elementos que são divisíveis pelo divisor.\n",
        "def lista_divisiveis(lista,divisor):\n",
        "  divisiveis=[]\n",
        "  for numero in lista:\n",
        "    if numero%divisor ==0:\n",
        "      divisiveis.append(numero)\n",
        "  return divisiveis\n",
        "lista=[1,2,3,4,5,6,7,8]\n",
        "print(lista_divisiveis(lista,2))\n"
      ],
      "metadata": {
        "colab": {
          "base_uri": "https://localhost:8080/"
        },
        "id": "d9wohvrXfben",
        "outputId": "d0156ff5-0f0c-4772-a8e7-0971f76fbf82"
      },
      "execution_count": 81,
      "outputs": [
        {
          "output_type": "stream",
          "name": "stdout",
          "text": [
            "[2, 4, 6, 8]\n"
          ]
        }
      ]
    },
    {
      "cell_type": "code",
      "source": [
        "#5. Escreva uma função que receba duas listas e retorne um conjunto com os elementos que aparecem em ambas.\n",
        "def lista_ambas(lista1,lista2):\n",
        "  iguais= set(lista1) & set(lista2)\n",
        "  return list(iguais)\n",
        "lista1=[1,3,6,4]\n",
        "lista2=[2,6,8,1]\n",
        "print(lista_ambas(lista1,lista2))\n",
        "\n"
      ],
      "metadata": {
        "colab": {
          "base_uri": "https://localhost:8080/"
        },
        "id": "KwpJdmepfqbW",
        "outputId": "628c6f61-673a-4b88-c4d6-8cf3b91e1e68"
      },
      "execution_count": 86,
      "outputs": [
        {
          "output_type": "stream",
          "name": "stdout",
          "text": [
            "[1, 6]\n"
          ]
        }
      ]
    },
    {
      "cell_type": "code",
      "source": [
        "#6. Crie uma função que receba uma lista e retorne uma nova lista com os elementos em ordem inversa.\n",
        "def lista_inversa(lista):\n",
        "  inversa= lista[::-1]\n",
        "  return inversa\n",
        "lista=[1,2,3,4,5,6]\n",
        "print(lista_inversa(lista))\n"
      ],
      "metadata": {
        "colab": {
          "base_uri": "https://localhost:8080/"
        },
        "id": "38f3HQwXgwMY",
        "outputId": "a279f2ce-2974-47dc-adcd-efd0e021afb1"
      },
      "execution_count": 29,
      "outputs": [
        {
          "output_type": "stream",
          "name": "stdout",
          "text": [
            "[6, 5, 4, 3, 2, 1]\n"
          ]
        }
      ]
    },
    {
      "cell_type": "code",
      "source": [
        "#7. Escreva uma função que receba uma lista de números e retorne uma lista contendo o quadrado de cada número.\n",
        "def lista_quadrado(lista):\n",
        "  quadrado=[]\n",
        "  for numero in lista:\n",
        "       quadrado.append(numero**2)\n",
        "  return quadrado\n",
        "lista=[1,2,3,4]\n",
        "print(lista_quadrado(lista))\n"
      ],
      "metadata": {
        "colab": {
          "base_uri": "https://localhost:8080/"
        },
        "id": "BvFQvPJoqtuo",
        "outputId": "c40cfe94-894a-4b0a-d8ef-2c6e3979805c"
      },
      "execution_count": 33,
      "outputs": [
        {
          "output_type": "stream",
          "name": "stdout",
          "text": [
            "[1, 4, 9, 16]\n"
          ]
        }
      ]
    },
    {
      "cell_type": "code",
      "source": [
        "#8. Crie uma função que receba uma lista e um valor, e retorne uma lista com os elementos maiores que esse valor.\n",
        "def lista_maiores(lista,valor):\n",
        "  maior=[]\n",
        "  for numero in lista:\n",
        "    if numero > valor:\n",
        "      maior.append(numero)\n",
        "  return maior\n",
        "lista=[2,5,6,3,4]\n",
        "print(lista_maiores(lista,3))"
      ],
      "metadata": {
        "colab": {
          "base_uri": "https://localhost:8080/"
        },
        "id": "TsCQsck6tPP9",
        "outputId": "c957d454-52ef-4615-b5bd-3e74d2f65b55"
      },
      "execution_count": 41,
      "outputs": [
        {
          "output_type": "stream",
          "name": "stdout",
          "text": [
            "[5, 6, 4]\n"
          ]
        }
      ]
    },
    {
      "cell_type": "code",
      "source": [
        "#9. Escreva uma função que receba duas listas e retorne uma lista dos elementos que estão em apenas uma das listas.\n",
        "def lista_iguais(lista1,lista2):\n",
        "  iguais=[]\n",
        "  for numero in lista1:\n",
        "    if numero not in lista2:\n",
        "      iguais.append(numero)\n",
        "\n",
        "  for numero in lista2:\n",
        "    if numero in lista1:\n",
        "      iguais.append(numero)\n",
        "  return iguais\n",
        "lista1=[1,2,3,4,5]\n",
        "lista2=[2,6,7,5]\n",
        "print(lista_iguais(lista1,lista2))"
      ],
      "metadata": {
        "colab": {
          "base_uri": "https://localhost:8080/"
        },
        "id": "boBGrGF8uTgy",
        "outputId": "8a9d6a0f-1ea2-494c-bd65-0e6662525ebf"
      },
      "execution_count": 45,
      "outputs": [
        {
          "output_type": "stream",
          "name": "stdout",
          "text": [
            "[1, 3, 4, 2, 5]\n"
          ]
        }
      ]
    },
    {
      "cell_type": "code",
      "source": [
        "#10. Faça uma função que receba uma lista e retorne um conjunto dos elementos únicos.\n",
        "def lista_unicos(lista):\n",
        "  unicos= set()\n",
        "  for numero in lista:\n",
        "    if numero not in unicos:\n",
        "      unicos.add(numero)\n",
        "  return unicos\n",
        "lista=[1,2,3,4,5]\n",
        "print(lista_unicos(lista))\n"
      ],
      "metadata": {
        "colab": {
          "base_uri": "https://localhost:8080/"
        },
        "id": "g9ARLsyxwHKY",
        "outputId": "4e383bc9-14c4-4dbf-80c6-01f9f33f0f10"
      },
      "execution_count": 47,
      "outputs": [
        {
          "output_type": "stream",
          "name": "stdout",
          "text": [
            "{1, 2, 3, 4, 5}\n"
          ]
        }
      ]
    },
    {
      "cell_type": "code",
      "source": [
        "#11. Crie uma função que receba duas listas e retorne uma lista dos elementos únicos que estão em ambas\n",
        "def lista_ambas(lista3,lista4):\n",
        "  ambas=[]\n",
        "  for  numero in lista3:\n",
        "    if numero not in lista4 and numero not in ambas:\n",
        "      ambas.append(numero)\n",
        "\n",
        "  for numero in lista4:\n",
        "    if numero not in lista3 and numero not in ambas:\n",
        "      ambas.append(numero)\n",
        "  return ambas\n",
        "lista3=[1,2,3,4,8,9]\n",
        "lista4=[1,3,4,5,9]\n",
        "print(lista_ambas(lista3,lista4))\n"
      ],
      "metadata": {
        "colab": {
          "base_uri": "https://localhost:8080/"
        },
        "id": "9WJWyTYsxoxd",
        "outputId": "8fb25059-953f-4c9f-e350-c8180cc2e990"
      },
      "execution_count": 50,
      "outputs": [
        {
          "output_type": "stream",
          "name": "stdout",
          "text": [
            "[2, 8, 5]\n"
          ]
        }
      ]
    },
    {
      "cell_type": "code",
      "source": [
        "#12. Escreva uma função que receba uma lista e retorne uma lista contendo os elementos que aparecem mais de uma vez.\n",
        "def lista_vezes(lista):\n",
        "  vezes=[]\n",
        "  for numero in lista:\n",
        "    if lista.count(numero)>1 and numero not in vezes:\n",
        "      vezes.append(numero)\n",
        "  return vezes\n",
        "lista=[1,2,3,2,6,4,1]\n",
        "print( lista_vezes(lista))"
      ],
      "metadata": {
        "colab": {
          "base_uri": "https://localhost:8080/"
        },
        "id": "zDsJBD06zCGQ",
        "outputId": "12bd548c-1e8a-463c-88ca-091726249350"
      },
      "execution_count": 57,
      "outputs": [
        {
          "output_type": "stream",
          "name": "stdout",
          "text": [
            "[1, 2]\n"
          ]
        }
      ]
    },
    {
      "cell_type": "code",
      "source": [
        "#13. Faça uma função que receba uma lista de números e retorne uma lista dos números pares\n",
        "def lista_pares(lista):\n",
        "  pares=[]\n",
        "  for numero in lista:\n",
        "    if numero%2==0:\n",
        "      pares.append(numero)\n",
        "  return pares\n",
        "lista=[12,5,6,2,8,33]\n",
        "print(lista_pares(lista))\n"
      ],
      "metadata": {
        "colab": {
          "base_uri": "https://localhost:8080/"
        },
        "id": "PzAIfk4z0fuk",
        "outputId": "2688d892-b736-4246-a856-3eecc5943cc0"
      },
      "execution_count": 58,
      "outputs": [
        {
          "output_type": "stream",
          "name": "stdout",
          "text": [
            "[12, 6, 2, 8]\n"
          ]
        }
      ]
    },
    {
      "cell_type": "code",
      "source": [
        "#14. Escreva uma função que receba uma lista de números e um valor, e retorne uma lista com os índices dos elementos maiores que o valor.\n",
        "def lista_maiores(lista,valor):\n",
        "  maiores=[]\n",
        "  for numero in lista:\n",
        "    if numero>valor:\n",
        "      maiores.append(numero)\n",
        "  return maiores\n",
        "lista= [6,5,9,8,7,12]\n",
        "print( lista_maiores(lista,6))"
      ],
      "metadata": {
        "colab": {
          "base_uri": "https://localhost:8080/"
        },
        "id": "frD9QOdd0TJQ",
        "outputId": "300ea52f-892b-4920-bc1b-3bd24d2a75f4"
      },
      "execution_count": 59,
      "outputs": [
        {
          "output_type": "stream",
          "name": "stdout",
          "text": [
            "[9, 8, 7, 12]\n"
          ]
        }
      ]
    },
    {
      "cell_type": "code",
      "source": [
        "#15. Crie uma função que receba uma lista de strings e retorne uma lista com o tamanho de cada string.\n",
        "def lista_letras(lista):\n",
        "  letras=[]\n",
        "  for numero in lista:\n",
        "    letras.append(len(numero))\n",
        "  return letras\n",
        "lista=['uva','morango','limao']\n",
        "print(lista_letras(lista))"
      ],
      "metadata": {
        "colab": {
          "base_uri": "https://localhost:8080/"
        },
        "id": "XQVaVhKT1nQf",
        "outputId": "3d0c299a-aa5c-4657-82b0-da58bbb30e97"
      },
      "execution_count": 60,
      "outputs": [
        {
          "output_type": "stream",
          "name": "stdout",
          "text": [
            "[3, 7, 5]\n"
          ]
        }
      ]
    },
    {
      "cell_type": "code",
      "source": [
        "#16. Escreva uma função que receba uma lista de números e retorne uma lista contendo cada número elevado ao cubo.\n",
        "def lista_cubo(lista):\n",
        "  cubo=[]\n",
        "  for numero in lista:\n",
        "    cubo.append(numero**3)\n",
        "  return cubo\n",
        "lista=[2,4,5,3]\n",
        "print(lista_cubo(lista))\n"
      ],
      "metadata": {
        "colab": {
          "base_uri": "https://localhost:8080/"
        },
        "id": "hyugROQK2VOI",
        "outputId": "0bf0b074-4a2e-4ef6-c50d-ac7c1384368d"
      },
      "execution_count": 62,
      "outputs": [
        {
          "output_type": "stream",
          "name": "stdout",
          "text": [
            "[8, 64, 125, 27]\n"
          ]
        }
      ]
    },
    {
      "cell_type": "code",
      "source": [
        "#17. Crie uma função que receba uma lista e retorne uma lista de todos os elementos únicos.\n",
        "def lista_junto(lista):\n",
        "  junto=[]\n",
        "  for numero in lista:\n",
        "    if lista.count(numero) == 1:\n",
        "      junto.append(numero)\n",
        "  return junto\n",
        "\n",
        "lista=[2,3,4,5,9,4,3]\n",
        "print(lista_junto(lista))\n"
      ],
      "metadata": {
        "colab": {
          "base_uri": "https://localhost:8080/"
        },
        "id": "_FMBH7ag284d",
        "outputId": "289347e0-3fa2-492d-950f-2901dd88f47f"
      },
      "execution_count": 69,
      "outputs": [
        {
          "output_type": "stream",
          "name": "stdout",
          "text": [
            "[2, 5, 9]\n"
          ]
        }
      ]
    },
    {
      "cell_type": "code",
      "source": [
        "#18. Escreva uma função que receba uma lista de strings e retorne uma lista contendo as strings que começam com uma letra maiúscula.\n",
        "def lista_maiuscula(lista):\n",
        "  maius=[]\n",
        "  for numero in lista:\n",
        "    if numero[0].isupper():\n",
        "      maius.append(numero)\n",
        "  return maius\n",
        "lista= ['Uva','morango','Jayane','limao']\n",
        "print(lista_maiuscula(lista))"
      ],
      "metadata": {
        "colab": {
          "base_uri": "https://localhost:8080/"
        },
        "id": "pMY2z8BI4jgf",
        "outputId": "6088f3a7-2872-48ab-ab9a-7de7c16948ef"
      },
      "execution_count": 72,
      "outputs": [
        {
          "output_type": "stream",
          "name": "stdout",
          "text": [
            "['Uva', 'Jayane']\n"
          ]
        }
      ]
    },
    {
      "cell_type": "code",
      "source": [
        "#19. Faça uma função que receba uma lista de números e retorne uma lista contendo apenas os múltiplos de 3.\n",
        "def lista_multiplo(lista):\n",
        "  multiplo=[]\n",
        "  for numero in lista:\n",
        "    if  numero%3==0:\n",
        "      multiplo.append(numero)\n",
        "  return multiplo\n",
        "lista= [1,3,6,9,15]\n",
        "print(lista_multiplo(lista))\n"
      ],
      "metadata": {
        "colab": {
          "base_uri": "https://localhost:8080/"
        },
        "id": "XMng15525u7P",
        "outputId": "55fd4c29-2cc4-4292-f1e3-943381f85787"
      },
      "execution_count": 73,
      "outputs": [
        {
          "output_type": "stream",
          "name": "stdout",
          "text": [
            "[3, 6, 9, 15]\n"
          ]
        }
      ]
    },
    {
      "cell_type": "code",
      "source": [
        "#20. Escreva uma função que receba duas listas e retorne uma lista com a interseção ordenada de forma crescente entre elas.\n",
        "def lista_inters(lista1,lista2):\n",
        "  interseçao=[]\n",
        "  for numero in lista1:\n",
        "   if numero in lista2 and numero not in interseçao:\n",
        "    interseçao.append(numero)\n",
        "  return interseçao\n",
        "lista1=[1,2,3,4,6]\n",
        "lista2=[7,9,4,6]\n",
        "print(lista_inters(lista1,lista2))\n",
        "\n"
      ],
      "metadata": {
        "colab": {
          "base_uri": "https://localhost:8080/"
        },
        "id": "qOM0YWZj6cDJ",
        "outputId": "c16adedd-bfac-4524-ce88-1c53611ca316"
      },
      "execution_count": 76,
      "outputs": [
        {
          "output_type": "stream",
          "name": "stdout",
          "text": [
            "[4, 6]\n"
          ]
        }
      ]
    }
  ]
}