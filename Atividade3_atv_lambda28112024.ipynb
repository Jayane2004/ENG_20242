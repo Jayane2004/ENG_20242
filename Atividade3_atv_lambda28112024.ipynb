{
  "nbformat": 4,
  "nbformat_minor": 0,
  "metadata": {
    "colab": {
      "provenance": [],
      "authorship_tag": "ABX9TyP1o6YK/9k+zbIIIypcBTP/",
      "include_colab_link": true
    },
    "kernelspec": {
      "name": "python3",
      "display_name": "Python 3"
    },
    "language_info": {
      "name": "python"
    }
  },
  "cells": [
    {
      "cell_type": "markdown",
      "metadata": {
        "id": "view-in-github",
        "colab_type": "text"
      },
      "source": [
        "<a href=\"https://colab.research.google.com/github/Jayane2004/ENG_20242/blob/main/Atividade3_atv_lambda28112024.ipynb\" target=\"_parent\"><img src=\"https://colab.research.google.com/assets/colab-badge.svg\" alt=\"Open In Colab\"/></a>"
      ]
    },
    {
      "cell_type": "code",
      "execution_count": null,
      "metadata": {
        "colab": {
          "base_uri": "https://localhost:8080/"
        },
        "id": "5BO0jeh6ZCnO",
        "outputId": "fbc7abb4-b2c4-4121-e079-e9ac942983a0"
      },
      "outputs": [
        {
          "output_type": "stream",
          "name": "stdout",
          "text": [
            "[4, 16, 1, 36, 9]\n"
          ]
        }
      ],
      "source": [
        "#Atividade 03 - Portfólio Avaliativo - ATÉ 30/11\n",
        "\n",
        "#1 Dada uma lista de números inteiros, use uma função lambda para retornar uma lista com o quadrado de cada número.\n",
        "lista= [2,4,1,6,3]\n",
        "quadrado=  list(map(lambda x: x**2, lista))\n",
        "print(quadrado)\n"
      ]
    },
    {
      "cell_type": "code",
      "source": [
        "#2 Dada uma lista de temperaturas em Celsius, use uma função lambda para convertê-las em Fahrenheit.\n",
        "lista1= [0,2,3,1]\n",
        "fah= list(map(lambda x: (x*(9/5)+32), lista1))\n",
        "print(fah)"
      ],
      "metadata": {
        "colab": {
          "base_uri": "https://localhost:8080/"
        },
        "id": "J4J8uH8rZmwM",
        "outputId": "c6a57de0-e0f9-48eb-b60d-63382af95b23"
      },
      "execution_count": null,
      "outputs": [
        {
          "output_type": "stream",
          "name": "stdout",
          "text": [
            "[32.0, 35.6, 37.4, 33.8]\n"
          ]
        }
      ]
    },
    {
      "cell_type": "code",
      "source": [
        "#3 Dada uma lista de palavras, use uma função lambda para retornar uma lista com o comprimento de cada palavra.\n",
        "lista2= ['uva','morango', 'limao', 'jilo']\n",
        "compri= list(map(lambda x: len(x), lista2))\n",
        "print(compri)"
      ],
      "metadata": {
        "colab": {
          "base_uri": "https://localhost:8080/"
        },
        "id": "UJjPWy5GaRz6",
        "outputId": "d11155ab-f72b-4d2a-d579-9bcb2939bac6"
      },
      "execution_count": null,
      "outputs": [
        {
          "output_type": "stream",
          "name": "stdout",
          "text": [
            "[3, 7, 5, 4]\n"
          ]
        }
      ]
    },
    {
      "cell_type": "code",
      "source": [
        "#4 Use uma função lambda para dobrar os valores de uma lista de inteiros.\n",
        "lista3= [12,4,31,44,21]\n",
        "dobrar= list(map(lambda x: x*2, lista3))\n",
        "print(dobrar)"
      ],
      "metadata": {
        "colab": {
          "base_uri": "https://localhost:8080/"
        },
        "id": "czP8vOXoao47",
        "outputId": "78a19046-169b-490c-9720-b6221f14c023"
      },
      "execution_count": null,
      "outputs": [
        {
          "output_type": "stream",
          "name": "stdout",
          "text": [
            "[24, 8, 62, 88, 42]\n"
          ]
        }
      ]
    },
    {
      "cell_type": "code",
      "source": [
        "#5 Dada uma lista de nomes, use uma função lambda para adicionar o prefixo \"Sr./Sra.\" antes de cada nome.\n",
        "pessoa= ['joyce','ana','julia','ryan']\n",
        "adicionar= list(map(lambda x: 'Sr/Sra '+ x, pessoa))\n",
        "print(adicionar)\n"
      ],
      "metadata": {
        "colab": {
          "base_uri": "https://localhost:8080/"
        },
        "id": "M6uLYnXHbF22",
        "outputId": "b810483f-6ef4-4525-a658-267c31a544c7"
      },
      "execution_count": null,
      "outputs": [
        {
          "output_type": "stream",
          "name": "stdout",
          "text": [
            "['Sr/Sra joyce', 'Sr/Sra ana', 'Sr/Sra julia', 'Sr/Sra ryan']\n"
          ]
        }
      ]
    },
    {
      "cell_type": "code",
      "source": [
        "#6 Dada uma lista de números, use uma função lambda para retornar apenas os números pares.\n",
        "lista4= [2,4,1,6,3]\n",
        "pares= list(filter(lambda x: x%2==0, lista4))\n",
        "print(pares)"
      ],
      "metadata": {
        "colab": {
          "base_uri": "https://localhost:8080/"
        },
        "id": "73EyvOtdbML-",
        "outputId": "853d15be-ae34-4b74-e5ae-3ee6c13baef9"
      },
      "execution_count": null,
      "outputs": [
        {
          "output_type": "stream",
          "name": "stdout",
          "text": [
            "[2, 4, 6]\n"
          ]
        }
      ]
    },
    {
      "cell_type": "code",
      "source": [
        "#7 Dada uma lista de palavras, use uma função lambda para retornar apenas as palavras com menos de 5 caracteres.\n",
        "lista5= ['uva','morango', 'limao', 'jilo']\n",
        "menos5= list(filter(lambda x: 5>len(x), lista5))\n",
        "print(menos5)"
      ],
      "metadata": {
        "colab": {
          "base_uri": "https://localhost:8080/"
        },
        "id": "f_y35ROMbShO",
        "outputId": "dfedcbba-c027-441a-92f2-0b9ceee5aff8"
      },
      "execution_count": null,
      "outputs": [
        {
          "output_type": "stream",
          "name": "stdout",
          "text": [
            "['uva', 'jilo']\n"
          ]
        }
      ]
    },
    {
      "cell_type": "code",
      "source": [
        "#8 Dada uma lista de idades, use uma função lambda para retornar apenas as idades maiores que 18.\n",
        "lista6= [12,18,20,19,78,69]\n",
        "maiores= list(filter(lambda x: 18<x, lista6))\n",
        "print(maiores)"
      ],
      "metadata": {
        "colab": {
          "base_uri": "https://localhost:8080/"
        },
        "id": "wegwPoTObYn4",
        "outputId": "24a39823-bad2-4c6c-b0ae-4327caf2fff9"
      },
      "execution_count": null,
      "outputs": [
        {
          "output_type": "stream",
          "name": "stdout",
          "text": [
            "[20, 19, 78, 69]\n"
          ]
        }
      ]
    },
    {
      "cell_type": "code",
      "source": [
        "#9 Dada uma lista de strings, use uma função lambda para retornar as strings que começam com a letra \"a\".\n",
        "pessoa1= ['joyce','ana','julia','ryan']\n",
        "letra= list(filter(lambda x: x[0]=='a', pessoa1))\n",
        "print(letra)\n"
      ],
      "metadata": {
        "colab": {
          "base_uri": "https://localhost:8080/"
        },
        "id": "27lTkflwek3y",
        "outputId": "4da0c6ef-a270-43e3-a3a2-916708c38d8b"
      },
      "execution_count": null,
      "outputs": [
        {
          "output_type": "stream",
          "name": "stdout",
          "text": [
            "['ana']\n"
          ]
        }
      ]
    },
    {
      "cell_type": "code",
      "source": [
        "#10 Dada uma lista de números inteiros, use uma função lambda para retornar apenas os números positivos.\n",
        "lista7= [-12,18,-20,19,-78,69]\n",
        "positivo= list(filter(lambda x: x>0, lista7))\n",
        "print(positivo)"
      ],
      "metadata": {
        "colab": {
          "base_uri": "https://localhost:8080/"
        },
        "id": "38Y9awP5fgbw",
        "outputId": "0680fb05-263c-42cd-8a1f-ab8e1adfd0a6"
      },
      "execution_count": null,
      "outputs": [
        {
          "output_type": "stream",
          "name": "stdout",
          "text": [
            "[18, 19, 69]\n"
          ]
        }
      ]
    },
    {
      "cell_type": "code",
      "source": [
        "#11 Use uma função lambda para calcular a soma de uma lista de números.\n",
        "lista8=[10,20,5]\n",
        "soma= sum(map(lambda x: x, lista8))\n",
        "print(soma)\n"
      ],
      "metadata": {
        "id": "ZospIyw2gMRU",
        "colab": {
          "base_uri": "https://localhost:8080/"
        },
        "outputId": "5d1fbd82-10cd-4db5-a494-e62f077b2bc2"
      },
      "execution_count": null,
      "outputs": [
        {
          "output_type": "stream",
          "name": "stdout",
          "text": [
            "35\n"
          ]
        }
      ]
    },
    {
      "cell_type": "code",
      "source": [
        "#12 Use uma função lambda para multiplicar todos os elementos de uma lista.\n",
        "lista9=[1,2,3,4,0]\n",
        "multiplicaçao=1\n",
        "for i in lista9:\n",
        "  multiplicaçao*=i\n",
        "  print(multiplicaçao)\n"
      ],
      "metadata": {
        "colab": {
          "base_uri": "https://localhost:8080/"
        },
        "id": "xlslN4E1BhPB",
        "outputId": "6f6ef0b6-0ee3-4855-ff73-3c2b5420a08d"
      },
      "execution_count": null,
      "outputs": [
        {
          "output_type": "stream",
          "name": "stdout",
          "text": [
            "1\n",
            "2\n",
            "6\n",
            "24\n",
            "0\n"
          ]
        }
      ]
    },
    {
      "cell_type": "code",
      "source": [
        "#13 Use uma função lambda para encontrar o maior número em uma lista.\n",
        "lista10=[10,20,155,2693]\n",
        "maxi=max(map(lambda x:x,lista10))\n",
        "print(maxi)"
      ],
      "metadata": {
        "colab": {
          "base_uri": "https://localhost:8080/"
        },
        "id": "dmMf9ctTC0au",
        "outputId": "24297441-7387-4c94-df20-97c1a2e9bd4a"
      },
      "execution_count": null,
      "outputs": [
        {
          "output_type": "stream",
          "name": "stdout",
          "text": [
            "2693\n"
          ]
        }
      ]
    },
    {
      "cell_type": "code",
      "source": [
        "#14 Use uma função lambda para concatenar uma lista de palavras em uma única string separada por espaços.\n",
        "letra = ['jayane', 'uva', 'morango']\n",
        "unica= ''.join(map(lambda x:x,letra))\n",
        "print(unica)\n"
      ],
      "metadata": {
        "colab": {
          "base_uri": "https://localhost:8080/"
        },
        "id": "etsSGSakDMnp",
        "outputId": "788ac6da-f73a-4425-cc15-6fa0f763c6a5"
      },
      "execution_count": null,
      "outputs": [
        {
          "output_type": "stream",
          "name": "stdout",
          "text": [
            "jayaneuvamorango\n"
          ]
        }
      ]
    },
    {
      "cell_type": "code",
      "source": [
        "#15 Use uma função lambda para somar os dígitos de uma lista de inteiros, onde cada número é tratado individualmente.\n",
        "numero = [123, 456, 230]\n",
        "somas = sum(map(lambda x: sum(int(digit) for digit in str(x)), numero))\n",
        "print(somas)"
      ],
      "metadata": {
        "colab": {
          "base_uri": "https://localhost:8080/"
        },
        "id": "r0Yng59MEhuP",
        "outputId": "52e6c74b-2bc0-4e71-ae97-d8472bd832fc"
      },
      "execution_count": null,
      "outputs": [
        {
          "output_type": "stream",
          "name": "stdout",
          "text": [
            "45\n"
          ]
        }
      ]
    },
    {
      "cell_type": "code",
      "source": [
        "#16 Use uma função lambda para dobrar os números de uma lista e retornar apenas os números que são maiores que 20.\n",
        "lista11=[2,3,15,10,23,5]\n",
        "dobro=list(filter(lambda x: x*2>20,lista11))\n",
        "print(dobro)"
      ],
      "metadata": {
        "colab": {
          "base_uri": "https://localhost:8080/"
        },
        "id": "WrBcrJTIFDx4",
        "outputId": "75057d27-9700-40f1-ce54-daa8c2d808dd"
      },
      "execution_count": null,
      "outputs": [
        {
          "output_type": "stream",
          "name": "stdout",
          "text": [
            "[15, 23]\n"
          ]
        }
      ]
    },
    {
      "cell_type": "code",
      "source": [
        "#17 Dada uma lista de palavras, use uma função lambda para encontrar todas as palavras que contêm a letra \"e\" e conte quantas são.\n",
        "palavra=['feijao','melancia','uva']\n",
        "letra=list(filter(lambda x: 'e' in x ,palavra))\n",
        "print(len(letra))"
      ],
      "metadata": {
        "colab": {
          "base_uri": "https://localhost:8080/"
        },
        "id": "q1wpyVuZFiIO",
        "outputId": "ce59c9ed-9719-403e-8e2f-1e0679157abe"
      },
      "execution_count": null,
      "outputs": [
        {
          "output_type": "stream",
          "name": "stdout",
          "text": [
            "2\n"
          ]
        }
      ]
    },
    {
      "cell_type": "code",
      "source": [
        "#18 Converta uma lista de temperaturas de Fahrenheit para Celsius usando uma função lambda e, em seguida, retorne apenas as temperaturas abaixo de 20°C.\n",
        "lisat12=[23,56,45,200]\n",
        "celsius = list(filter(lambda x: x < 20, map(lambda f: (f - 32) * 5.0/9.0, fahrenheit)))\n",
        "print(celsius)\n"
      ],
      "metadata": {
        "colab": {
          "base_uri": "https://localhost:8080/"
        },
        "id": "AOuepTunGmpg",
        "outputId": "8dc35f01-7ca1-4e60-f9ec-63086cf8e7e1"
      },
      "execution_count": null,
      "outputs": [
        {
          "output_type": "stream",
          "name": "stdout",
          "text": [
            "[1.6666666666666667, 0.0, 5.555555555555555]\n"
          ]
        }
      ]
    },
    {
      "cell_type": "code",
      "source": [
        "#19 Use uma função lambda para selecionar apenas os números pares de uma lista e, em seguida, somar esses números.\n",
        "lista12=[23,40,12,5]\n",
        "pare=sum(filter(lambda x:x%2==0,lista12))\n",
        "print(pare)"
      ],
      "metadata": {
        "colab": {
          "base_uri": "https://localhost:8080/"
        },
        "id": "ll4bW9k7GqZg",
        "outputId": "f89363da-8f54-4567-b29f-e0272c20ea0e"
      },
      "execution_count": null,
      "outputs": [
        {
          "output_type": "stream",
          "name": "stdout",
          "text": [
            "52\n"
          ]
        }
      ]
    },
    {
      "cell_type": "code",
      "source": [
        "#20 Use uma função lambda para substituir números negativos de uma lista por 0 e manter os positivos.\n",
        "negativo = [-1, 2, -3, 4, -5]\n",
        "neg = list(map(lambda x: x if x > 0 else 0, negativo))\n",
        "print(neg)"
      ],
      "metadata": {
        "colab": {
          "base_uri": "https://localhost:8080/"
        },
        "id": "a7isfOWwHhS8",
        "outputId": "86e750e5-05b4-40aa-9acc-7b35e4710697"
      },
      "execution_count": null,
      "outputs": [
        {
          "output_type": "stream",
          "name": "stdout",
          "text": [
            "[0, 2, 0, 4, 0]\n"
          ]
        }
      ]
    },
    {
      "cell_type": "code",
      "source": [
        "#21 Use uma função lambda para retornar a lista de cubos de cada elemento em uma lista de números\n",
        "lista13=[2,3,5,4]\n",
        "cubo=list(map(lambda x: x**3,lista13))\n",
        "print(cubo)\n"
      ],
      "metadata": {
        "id": "brFavjDKH9KM",
        "colab": {
          "base_uri": "https://localhost:8080/"
        },
        "outputId": "1e6cca7e-fde7-4efd-a7dd-f7848ec084cb"
      },
      "execution_count": 1,
      "outputs": [
        {
          "output_type": "stream",
          "name": "stdout",
          "text": [
            "[8, 27, 125, 64]\n"
          ]
        }
      ]
    },
    {
      "cell_type": "code",
      "source": [
        "#22 Use uma função lambda para verificar se um número dado é primo (retornando True ou False).\n",
        "primo = lambda n: n > 1 and all(n % i != 0 for i in range(2, int(n**0.5) + 1))\n",
        "print(primo(5))\n",
        "print(primo(12))"
      ],
      "metadata": {
        "colab": {
          "base_uri": "https://localhost:8080/"
        },
        "id": "mAi940jnRGvX",
        "outputId": "bf98a1e0-2e76-43f0-c1a7-4011c190a8c7"
      },
      "execution_count": 8,
      "outputs": [
        {
          "output_type": "stream",
          "name": "stdout",
          "text": [
            "True\n",
            "False\n"
          ]
        }
      ]
    },
    {
      "cell_type": "code",
      "source": [
        "#23 Use uma função lambda para dividir cada elemento de uma lista por 5 e retornar a nova lista.\n",
        "lista14=[2,6,9,7,4]\n",
        "divisao=list(map(lambda x: x/5,lista14))\n",
        "print(divisao)"
      ],
      "metadata": {
        "colab": {
          "base_uri": "https://localhost:8080/"
        },
        "id": "1PBtkEFjfabO",
        "outputId": "32dc4bae-2d99-4119-ef55-ceac89b9f2b7"
      },
      "execution_count": 9,
      "outputs": [
        {
          "output_type": "stream",
          "name": "stdout",
          "text": [
            "[0.4, 1.2, 1.8, 1.4, 0.8]\n"
          ]
        }
      ]
    },
    {
      "cell_type": "code",
      "source": [
        "#24 Use uma função lambda para remover todas as vogais de uma string dada.\n",
        "lista15= ['jayane', 'uva','morango']\n",
        "vogais = lambda s: ''.join([c for c in s if c.lower() not in 'aeiou'])\n",
        "print(vogais)"
      ],
      "metadata": {
        "colab": {
          "base_uri": "https://localhost:8080/"
        },
        "id": "sFzsGqbnfs10",
        "outputId": "cea10264-8d9d-4f2f-dddf-d1d8dcbe40a0"
      },
      "execution_count": 10,
      "outputs": [
        {
          "output_type": "stream",
          "name": "stdout",
          "text": [
            "<function <lambda> at 0x7a7219e223b0>\n"
          ]
        }
      ]
    },
    {
      "cell_type": "code",
      "source": [
        "#25 Use uma função lambda para converter todas as palavras em uma lista para letras maiúsculas.\n",
        "lista16=['jayane', 'uva','morango']\n",
        "maiusculo=list(map(lambda x:x.upper(),lista16))\n",
        "print(maiusculo)"
      ],
      "metadata": {
        "colab": {
          "base_uri": "https://localhost:8080/"
        },
        "id": "9dIEmT1IgTw9",
        "outputId": "68869294-19d3-4741-b693-bd0c759d5cc1"
      },
      "execution_count": 14,
      "outputs": [
        {
          "output_type": "stream",
          "name": "stdout",
          "text": [
            "['JAYANE', 'UVA', 'MORANGO']\n"
          ]
        }
      ]
    },
    {
      "cell_type": "code",
      "source": [
        "#26 Use uma função lambda para retornar apenas os números negativos de uma lista de inteiros\n",
        "lista17=[-2,5,-98,-100]\n",
        "negativo=list(filter(lambda x:x<0,lista17))\n",
        "print(negativo)"
      ],
      "metadata": {
        "colab": {
          "base_uri": "https://localhost:8080/"
        },
        "id": "xsBdTbJthgpY",
        "outputId": "3cad004b-65b9-4ad0-efc5-b5c384db7390"
      },
      "execution_count": 16,
      "outputs": [
        {
          "output_type": "stream",
          "name": "stdout",
          "text": [
            "[-2, -98, -100]\n"
          ]
        }
      ]
    },
    {
      "cell_type": "code",
      "source": [
        "#27 Use uma função lambda para converter todos os números de uma lista para seus valores absolutos.\n",
        "lista17=[-2,5,4,6,231]\n",
        "absoluto=list(filter(lambda x:abs(x),lista17))\n",
        "print(absoluto)"
      ],
      "metadata": {
        "colab": {
          "base_uri": "https://localhost:8080/"
        },
        "id": "T6W5GqgWh_SS",
        "outputId": "bb2dcaf0-5d7d-41e6-e311-72d350383a06"
      },
      "execution_count": 17,
      "outputs": [
        {
          "output_type": "stream",
          "name": "stdout",
          "text": [
            "[-2, 5, 4, 6, 231]\n"
          ]
        }
      ]
    },
    {
      "cell_type": "code",
      "source": [
        "#28 Use uma função lambda para retornar uma lista com o resto da divisão de cada elemento por 3.\n",
        "lista17=[22,102,86,42]\n",
        "divisao=list(filter(lambda x:x%3==0,lista17))\n",
        "print(divisao)"
      ],
      "metadata": {
        "colab": {
          "base_uri": "https://localhost:8080/"
        },
        "id": "Z0RuuX9aix9b",
        "outputId": "97b4704c-53cf-4eb7-e535-2595d28acc2b"
      },
      "execution_count": 18,
      "outputs": [
        {
          "output_type": "stream",
          "name": "stdout",
          "text": [
            "[102, 42]\n"
          ]
        }
      ]
    },
    {
      "cell_type": "code",
      "source": [
        "#29 Dada uma lista de números, use uma função lambda para multiplicar cada elemento pelo seu índice.\n",
        "multiplica_por_indice = lambda lista: [x * i for i, x in enumerate(lista)]\n",
        "print(multiplica_por_indice([1, 2, 3, 4]))"
      ],
      "metadata": {
        "colab": {
          "base_uri": "https://localhost:8080/"
        },
        "id": "2G1J7dMxjLlJ",
        "outputId": "bc1bef41-3c63-4297-fe30-b0b97ade030b"
      },
      "execution_count": 19,
      "outputs": [
        {
          "output_type": "stream",
          "name": "stdout",
          "text": [
            "[0, 2, 6, 12]\n"
          ]
        }
      ]
    },
    {
      "cell_type": "code",
      "source": [
        "#30 Use uma função lambda para verificar se uma palavra dada é um palíndromo (retornando True ou False).\n",
        "palindromo = lambda palavra: palavra == palavra[::-1]\n",
        "print(palindromo(\"futebol\"))\n",
        "print(palindromo(\"jayane\"))"
      ],
      "metadata": {
        "colab": {
          "base_uri": "https://localhost:8080/"
        },
        "id": "Pb93Ml-7jc51",
        "outputId": "e88d33ed-4228-477f-e033-acf39eb76733"
      },
      "execution_count": 21,
      "outputs": [
        {
          "output_type": "stream",
          "name": "stdout",
          "text": [
            "False\n",
            "False\n"
          ]
        }
      ]
    }
  ]
}